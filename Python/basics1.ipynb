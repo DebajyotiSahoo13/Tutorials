{
 "cells": [
  {
   "cell_type": "markdown",
   "id": "689b1685",
   "metadata": {},
   "source": [
    "anything within double/single qoutes is considered as string(collection of characters)"
   ]
  },
  {
   "cell_type": "code",
   "execution_count": 1,
   "id": "f0034b2b",
   "metadata": {},
   "outputs": [
    {
     "name": "stdout",
     "output_type": "stream",
     "text": [
      "Hello fermat\n",
      "Hello fermat\n"
     ]
    }
   ],
   "source": [
    "print('Hello fermat')\n",
    "print(\"Hello fermat\")\n",
    "# keep it within double quote/ single quote (be consistent)"
   ]
  },
  {
   "cell_type": "code",
   "execution_count": null,
   "id": "f8d84c64",
   "metadata": {},
   "outputs": [
    {
     "name": "stdout",
     "output_type": "stream",
     "text": [
      "9\n",
      "20\n",
      "0.8\n",
      "0\n"
     ]
    }
   ],
   "source": [
    "print(4+5)\n",
    "print(4*5)\n",
    "# this is a floating type division\n",
    "print(4/5) \n",
    "\n",
    "# this is a integer type division\n",
    "print(4//5)"
   ]
  },
  {
   "cell_type": "code",
   "execution_count": 32,
   "id": "234e65e8",
   "metadata": {},
   "outputs": [
    {
     "name": "stdout",
     "output_type": "stream",
     "text": [
      "14\n",
      "2.0\n",
      "2\n",
      "0\n",
      "1.4142135623730951\n"
     ]
    }
   ],
   "source": [
    "print(2+3*4)\n",
    "print(4/2)\n",
    "print(4//2)\n",
    "print(2//4)\n",
    "print(2**0.5)"
   ]
  },
  {
   "cell_type": "code",
   "execution_count": null,
   "id": "cbb291e6",
   "metadata": {},
   "outputs": [
    {
     "name": "stdout",
     "output_type": "stream",
     "text": [
      "8\n",
      "8.0\n",
      "8\n"
     ]
    }
   ],
   "source": [
    "print(2**3)\n",
    "print(16/2)\n",
    "print(16//2)\n"
   ]
  },
  {
   "cell_type": "code",
   "execution_count": 37,
   "id": "b0e66fe1",
   "metadata": {},
   "outputs": [
    {
     "name": "stdout",
     "output_type": "stream",
     "text": [
      "0\n",
      "1\n"
     ]
    }
   ],
   "source": [
    "print(16%2)\n",
    "print(15%2)"
   ]
  },
  {
   "cell_type": "code",
   "execution_count": 39,
   "id": "71265589",
   "metadata": {},
   "outputs": [
    {
     "name": "stdout",
     "output_type": "stream",
     "text": [
      "1.4142\n",
      "1.41\n"
     ]
    }
   ],
   "source": [
    "print(round(2**0.5,4))\n",
    "print(round(2**0.5,2))"
   ]
  },
  {
   "cell_type": "markdown",
   "id": "3e1d0bdc",
   "metadata": {},
   "source": [
    "### Escape sequences"
   ]
  },
  {
   "cell_type": "code",
   "execution_count": 40,
   "id": "ae4ae396",
   "metadata": {},
   "outputs": [
    {
     "name": "stdout",
     "output_type": "stream",
     "text": [
      "hello \"world\" world\n",
      "hello 'world' world\n"
     ]
    }
   ],
   "source": [
    "print('hello \"world\" world')\n",
    "print(\"hello 'world' world\")"
   ]
  },
  {
   "cell_type": "code",
   "execution_count": 5,
   "id": "653f1de4",
   "metadata": {},
   "outputs": [
    {
     "name": "stdout",
     "output_type": "stream",
     "text": [
      "i'm kimaya\n",
      "i\\'m kimaya\n"
     ]
    }
   ],
   "source": [
    "print(\"i\\'m kimaya\")\n",
    "print(\"i\\\\'m kimaya\")"
   ]
  },
  {
   "cell_type": "code",
   "execution_count": 15,
   "id": "ccf6ea6d",
   "metadata": {},
   "outputs": [
    {
     "name": "stdout",
     "output_type": "stream",
     "text": [
      "'\n",
      "\"\n",
      "\\\n"
     ]
    }
   ],
   "source": [
    "print(\"\\'\")\n",
    "print(\"\\\"\")\n",
    "print(\"\\\\\")"
   ]
  },
  {
   "cell_type": "code",
   "execution_count": null,
   "id": "475ced50",
   "metadata": {},
   "outputs": [
    {
     "name": "stdout",
     "output_type": "stream",
     "text": [
      "hello\n",
      "world\n"
     ]
    }
   ],
   "source": [
    "print(\"hello\\nworld\")\n",
    "# \\n break line\n"
   ]
  },
  {
   "cell_type": "code",
   "execution_count": null,
   "id": "e6c946d2",
   "metadata": {},
   "outputs": [
    {
     "name": "stdout",
     "output_type": "stream",
     "text": [
      "hellworld\n"
     ]
    }
   ],
   "source": [
    "print(\"hello\\bworld\")\n",
    "# \\b is fo backspace"
   ]
  },
  {
   "cell_type": "code",
   "execution_count": null,
   "id": "e64e374e",
   "metadata": {},
   "outputs": [
    {
     "name": "stdout",
     "output_type": "stream",
     "text": [
      "hello\tworld\n"
     ]
    }
   ],
   "source": [
    "print(\"hello\\tworld\")\n",
    "# \\t tab"
   ]
  },
  {
   "cell_type": "code",
   "execution_count": null,
   "id": "1a34225b",
   "metadata": {},
   "outputs": [
    {
     "name": "stdout",
     "output_type": "stream",
     "text": [
      "hello \"world\" world\n",
      "\\\"\\\"\\\"\\\"\n",
      "/\\/\\/\\/\\\n",
      "he is\tawesome\n",
      "\\\" \\n \\t \\\"\n"
     ]
    }
   ],
   "source": [
    "print(\"hello \\\"world\\\" world\")\n",
    "print(\"\\\\\\\"\\\\\\\"\\\\\\\"\\\\\\\"\")\n",
    "print(\"/\\\\/\\\\/\\\\/\\\\\")\n",
    "print(\"he is\\tawesome\")\n",
    "print(\"\\\\\\\" \\\\n \\\\t \\\\\\\"\")\n"
   ]
  },
  {
   "cell_type": "code",
   "execution_count": null,
   "id": "b3f73ceb",
   "metadata": {},
   "outputs": [
    {
     "name": "stdout",
     "output_type": "stream",
     "text": [
      "hello 4 5.7 True\n",
      "hello/3/6.7/False\n"
     ]
    }
   ],
   "source": [
    "print(\"hello\",4,5.7,True)\n",
    "print('hello',3,6.7,False,sep='/')\n",
    "\n",
    "# the sep part is a parameter or a keyword argument for print funcion"
   ]
  },
  {
   "cell_type": "markdown",
   "id": "e62ffec4",
   "metadata": {},
   "source": [
    "## Raw Strings"
   ]
  },
  {
   "cell_type": "markdown",
   "id": "5372b804",
   "metadata": {},
   "source": [
    "- Raw strings are prefixed with r that tells python not to interpret python backslashes as escape characters"
   ]
  },
  {
   "cell_type": "code",
   "execution_count": 30,
   "id": "a1c6f3ce",
   "metadata": {},
   "outputs": [
    {
     "name": "stdout",
     "output_type": "stream",
     "text": [
      "/\\\\/\\\\/\\\\/\\\\\n"
     ]
    }
   ],
   "source": [
    "print(r\"/\\\\/\\\\/\\\\/\\\\\")"
   ]
  },
  {
   "cell_type": "markdown",
   "id": "306e45ee",
   "metadata": {},
   "source": [
    "## Prescedence Rule"
   ]
  },
  {
   "cell_type": "markdown",
   "id": "a6018dcb",
   "metadata": {},
   "source": [
    "- It refers to the order in which different operations are performed"
   ]
  },
  {
   "cell_type": "markdown",
   "id": "b4a9ce60",
   "metadata": {},
   "source": [
    "- Parenthesis - highest\n",
    "- Exponent -  right to left (Right associated)\n",
    "- *,/,//,%  - left to right (Left associated)\n",
    "- +,-      - left to right\n",
    "- Comparison (==, != ,<,> ,>=,<= )\n",
    "- Logical AND (and) , Logical NOT (not) , Logical OR (or)"
   ]
  },
  {
   "cell_type": "code",
   "execution_count": null,
   "id": "b93adcc2",
   "metadata": {},
   "outputs": [
    {
     "name": "stdout",
     "output_type": "stream",
     "text": [
      "25\n",
      "0.5\n",
      "0\n"
     ]
    }
   ],
   "source": [
    "print((2+3)*5)\n",
    "print((2+3)*5/2%6)\n",
    "print((2+3)*5//2%6)\n"
   ]
  },
  {
   "cell_type": "code",
   "execution_count": 44,
   "id": "600bd45f",
   "metadata": {},
   "outputs": [
    {
     "name": "stdout",
     "output_type": "stream",
     "text": [
      "512\n"
     ]
    }
   ],
   "source": [
    "print(2**3**2)"
   ]
  },
  {
   "cell_type": "code",
   "execution_count": null,
   "id": "2baea1de",
   "metadata": {},
   "outputs": [],
   "source": []
  }
 ],
 "metadata": {
  "kernelspec": {
   "display_name": "ml1",
   "language": "python",
   "name": "python3"
  },
  "language_info": {
   "codemirror_mode": {
    "name": "ipython",
    "version": 3
   },
   "file_extension": ".py",
   "mimetype": "text/x-python",
   "name": "python",
   "nbconvert_exporter": "python",
   "pygments_lexer": "ipython3",
   "version": "3.12.11"
  }
 },
 "nbformat": 4,
 "nbformat_minor": 5
}
