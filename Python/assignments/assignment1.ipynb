{
 "cells": [
  {
   "cell_type": "markdown",
   "id": "861234d7",
   "metadata": {},
   "source": [
    "## Q.Count the frequency of a particular character in a input string\n",
    "\n",
    "- take a character and a string and count the occurence of the character in the string\n",
    "- Ex: 'My name is Deev' , ch = 'e' , ans = 3\n",
    "- make sure it is case sensitive , i.e E and e are same while counting \n",
    "- use loops"
   ]
  },
  {
   "cell_type": "code",
   "execution_count": null,
   "id": "82480fee",
   "metadata": {},
   "outputs": [],
   "source": []
  },
  {
   "cell_type": "markdown",
   "id": "5c707ede",
   "metadata": {},
   "source": [
    "## Q.Find the length of a given string without using len() function\n",
    "- make sure u loop the string itself directly"
   ]
  },
  {
   "cell_type": "code",
   "execution_count": null,
   "id": "18ef4499",
   "metadata": {},
   "outputs": [],
   "source": []
  },
  {
   "cell_type": "markdown",
   "id": "5a0e1537",
   "metadata": {},
   "source": [
    "## Q.Check if a string is palindrome or not\n",
    "- Ex: racecar \n",
    "- use loops"
   ]
  },
  {
   "cell_type": "code",
   "execution_count": null,
   "id": "a96a13a9",
   "metadata": {},
   "outputs": [],
   "source": []
  },
  {
   "cell_type": "markdown",
   "id": "f61b2267",
   "metadata": {},
   "source": [
    "## Q. Find the most frequent character in a string\n",
    "- Ex: 'My name is Deev' , here 'e' is the most repeating\n",
    "- answer should be a character like 'e'\n",
    "- use loops ,may be functions (optional)"
   ]
  },
  {
   "cell_type": "code",
   "execution_count": null,
   "id": "d8f56586",
   "metadata": {},
   "outputs": [],
   "source": []
  },
  {
   "cell_type": "markdown",
   "id": "71eacf0b",
   "metadata": {},
   "source": [
    "## q. write a function to check the greatest and the smallest between three numbers\n",
    "- make two diff functions , def greatest and def smallest"
   ]
  },
  {
   "cell_type": "code",
   "execution_count": null,
   "id": "d715dea6",
   "metadata": {},
   "outputs": [],
   "source": []
  }
 ],
 "metadata": {
  "kernelspec": {
   "display_name": "caesar",
   "language": "python",
   "name": "python3"
  },
  "language_info": {
   "codemirror_mode": {
    "name": "ipython",
    "version": 3
   },
   "file_extension": ".py",
   "mimetype": "text/x-python",
   "name": "python",
   "nbconvert_exporter": "python",
   "pygments_lexer": "ipython3",
   "version": "3.11.9"
  }
 },
 "nbformat": 4,
 "nbformat_minor": 5
}
