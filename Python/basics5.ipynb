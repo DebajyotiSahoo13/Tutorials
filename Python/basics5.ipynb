{
 "cells": [
  {
   "cell_type": "markdown",
   "id": "4aaf4edf",
   "metadata": {},
   "source": [
    "## if else\n",
    "- it is used for conditional execution(make decisions based on certain conditions)\n",
    "- it allows the program to execue certain blocks of code based on the condition whether the condition is true or false"
   ]
  },
  {
   "cell_type": "code",
   "execution_count": 11,
   "id": "f33ffe5b",
   "metadata": {},
   "outputs": [],
   "source": [
    "age = int(input(\"enter your age\"))\n",
    "if age > 18:\n",
    "    print(\"eligible to vote\")"
   ]
  },
  {
   "cell_type": "code",
   "execution_count": 12,
   "id": "f2b4d046",
   "metadata": {},
   "outputs": [
    {
     "name": "stdout",
     "output_type": "stream",
     "text": [
      "not eligible to vote\n"
     ]
    }
   ],
   "source": [
    "if age > 18:\n",
    "    print(\"eligible to vote\")\n",
    "else:\n",
    "    print(\"not eligible to vote\")"
   ]
  },
  {
   "cell_type": "code",
   "execution_count": 15,
   "id": "236ff27d",
   "metadata": {},
   "outputs": [],
   "source": [
    "# pass statement : it is a null operation and does not hold any value (used as a place holder). it can be used in a empty function definitions\n",
    "x = 18\n",
    "if x>18:\n",
    "    pass"
   ]
  },
  {
   "cell_type": "code",
   "execution_count": 19,
   "id": "e3e7e116",
   "metadata": {},
   "outputs": [
    {
     "name": "stdout",
     "output_type": "stream",
     "text": [
      "positive\n"
     ]
    }
   ],
   "source": [
    "# elif (used for multiple conditions)\n",
    "num = int(input(\"enter a number\"))\n",
    "if num < 0:\n",
    "    print(\"negative\")\n",
    "\n",
    "elif num == 0:\n",
    "    print(\"zero\")\n",
    "\n",
    "else:\n",
    "    print(\"positive\")\n"
   ]
  },
  {
   "cell_type": "code",
   "execution_count": 22,
   "id": "e74e72dc",
   "metadata": {},
   "outputs": [
    {
     "name": "stdout",
     "output_type": "stream",
     "text": [
      "too low\n"
     ]
    }
   ],
   "source": [
    "# nested if and else\n",
    "# number game\n",
    "winning_number = 45\n",
    "guess = int(input(\"enter a number\"))\n",
    "if winning_number == guess:\n",
    "    print(\"win\")\n",
    "else:\n",
    "    if guess > winning_number :\n",
    "        print(\"too high\")\n",
    "    else:\n",
    "        print(\"too low\")\n",
    "    "
   ]
  },
  {
   "cell_type": "code",
   "execution_count": 38,
   "id": "3025f458",
   "metadata": {},
   "outputs": [
    {
     "data": {
      "text/plain": [
       "int"
      ]
     },
     "execution_count": 38,
     "metadata": {},
     "output_type": "execute_result"
    }
   ],
   "source": [
    "#  and / or operator\n",
    "# take 3 angles is it acute obtuse or right\n",
    "\n",
    "a , b ,c = input(\"enter angles of a triangle\").split(\" \")\n",
    "a,b,c = int(a) , int(b) , int(c)\n",
    "type(a)\n",
    "\n",
    " "
   ]
  },
  {
   "cell_type": "code",
   "execution_count": 39,
   "id": "0da93ca2",
   "metadata": {},
   "outputs": [
    {
     "name": "stdout",
     "output_type": "stream",
     "text": [
      "not a valid triangle\n"
     ]
    }
   ],
   "source": [
    "if a + b+c ==180:\n",
    "    if a > 90 or b>90 or c>90:\n",
    "        print(\"obtuse angle triangle\")\n",
    "\n",
    "    elif a ==90 or b==90 or c==90:\n",
    "        print(\"right angle triangle\")\n",
    "\n",
    "    else:\n",
    "        print(\"acute\")\n",
    "\n",
    "else:\n",
    "    print(\"not a valid triangle\")\n",
    "\n"
   ]
  },
  {
   "cell_type": "code",
   "execution_count": 45,
   "id": "c52e1c31",
   "metadata": {},
   "outputs": [
    {
     "name": "stdout",
     "output_type": "stream",
     "text": [
      "17\n"
     ]
    }
   ],
   "source": [
    "# calculator\n",
    "a , b  = input(\"enter 2 numbers\").split(\" \")\n",
    "a , b = int(a) , int(b)\n",
    "op = input(\"enter the operand\")\n",
    "\n",
    "if op == \"+\":\n",
    "    print(a + b)\n",
    "elif op ==\"-\":\n",
    "    print(a - b)\n",
    "elif op == \"*\":\n",
    "    print(a * b)\n",
    "elif op == \"/\":\n",
    "    print(a/b)\n",
    "\n",
    "else :\n",
    "    print(\"invalid\")\n"
   ]
  },
  {
   "cell_type": "code",
   "execution_count": 52,
   "id": "d2a74643",
   "metadata": {},
   "outputs": [
    {
     "name": "stdout",
     "output_type": "stream",
     "text": [
      "yes\n",
      "no\n"
     ]
    }
   ],
   "source": [
    "# in keyword\n",
    "if \"f\" in \"fermat\":\n",
    "    print(\"yes\")\n",
    "else:\n",
    "    print(\"no\")\n",
    "\n",
    "# Check empty or not\n",
    "name = int(input())\n",
    "if name:\n",
    "    print(\"yes\")\n",
    "else:\n",
    "    print(\"no\")"
   ]
  },
  {
   "cell_type": "markdown",
   "id": "38bc4b4d",
   "metadata": {},
   "source": [
    "# Loops\n",
    "- allows us to excecte a block of code multiple times. "
   ]
  },
  {
   "cell_type": "markdown",
   "id": "09e89751",
   "metadata": {},
   "source": [
    "### While\n",
    "- It is used to repeat ablock of code as long as a specified condition is true\n",
    "- It is useful when number of iterations is unknown.\n"
   ]
  },
  {
   "cell_type": "code",
   "execution_count": 54,
   "id": "52979b51",
   "metadata": {},
   "outputs": [
    {
     "name": "stdout",
     "output_type": "stream",
     "text": [
      "hello world\n",
      "hello world\n",
      "hello world\n",
      "hello world\n",
      "hello world\n",
      "hello world\n",
      "hello world\n",
      "hello world\n",
      "hello world\n",
      "hello world\n"
     ]
    }
   ],
   "source": [
    "i = 1\n",
    "while i<=10:\n",
    "    print(\"hello world\")\n",
    "    i += 1"
   ]
  },
  {
   "cell_type": "code",
   "execution_count": null,
   "id": "dd74e635",
   "metadata": {},
   "outputs": [
    {
     "name": "stdout",
     "output_type": "stream",
     "text": [
      "65\n"
     ]
    }
   ],
   "source": [
    "i = 1\n",
    "sum = 0\n",
    "while i<=10:\n",
    "    sum += i\n",
    "    i+=1 \n",
    "    \n",
    "print(sum)"
   ]
  },
  {
   "cell_type": "code",
   "execution_count": 61,
   "id": "1db215f7",
   "metadata": {},
   "outputs": [
    {
     "name": "stdout",
     "output_type": "stream",
     "text": [
      "120\n"
     ]
    }
   ],
   "source": [
    "i=1\n",
    "fact = 1\n",
    "while i<=5:\n",
    "    fact *= i\n",
    "    i+=1\n",
    "print(fact)"
   ]
  },
  {
   "cell_type": "code",
   "execution_count": null,
   "id": "b5ae3cc2",
   "metadata": {},
   "outputs": [],
   "source": [
    "# break statement : break is used to exit a loop prematurely regardless of the loop's condition\n",
    "# "
   ]
  },
  {
   "cell_type": "markdown",
   "id": "35289765",
   "metadata": {},
   "source": [
    "### break statement \n",
    "- break is used to exit a loop prematurely regardless of the loop's condition\n",
    "- we can use it when we want to terminate the loop as soon as the certain condition is met.\n",
    "- The loop hasn't completed all its iteration.\n",
    "- it is to break away from current iteration of the loop (exit from the current iteration of the loop)"
   ]
  },
  {
   "cell_type": "markdown",
   "id": "66c474ff",
   "metadata": {},
   "source": [
    "### Continue statement\n",
    "- used to skip the current iteration of the loop and move to the next iteration immediately.\n",
    "- Unlike break continue does not exit the loop it skips the current iteration.\n",
    "- skipping a particular iteration of the loop (it tells to go to the next iteration of the loop)"
   ]
  },
  {
   "cell_type": "code",
   "execution_count": 66,
   "id": "a211cf2f",
   "metadata": {},
   "outputs": [
    {
     "name": "stdout",
     "output_type": "stream",
     "text": [
      "1\n",
      "2\n"
     ]
    }
   ],
   "source": [
    "i = 1\n",
    "while i < 5:\n",
    "    if i == 3:\n",
    "        break\n",
    "    print(i)\n",
    "    i += 1"
   ]
  },
  {
   "cell_type": "code",
   "execution_count": 69,
   "id": "b43a4195",
   "metadata": {},
   "outputs": [
    {
     "name": "stdout",
     "output_type": "stream",
     "text": [
      "1\n",
      "2\n",
      "4\n"
     ]
    }
   ],
   "source": [
    "i = 1\n",
    "while i < 5:\n",
    "    if i == 3:\n",
    "        i += 1\n",
    "        continue\n",
    "    print(i)\n",
    "    i += 1"
   ]
  },
  {
   "cell_type": "code",
   "execution_count": 64,
   "id": "20d5d729",
   "metadata": {},
   "outputs": [
    {
     "name": "stdout",
     "output_type": "stream",
     "text": [
      "0\n",
      "1\n",
      "2\n",
      "3\n",
      "4\n",
      "loop ended naturally\n"
     ]
    }
   ],
   "source": [
    "# we can use else with while\n",
    "# if the while loop is terminated because of the break the else block is skipped or else it is natually executed after the while block\n",
    "count = 0\n",
    "while count < 5:\n",
    "    print(count)\n",
    "    count += 1\n",
    "else:\n",
    "    print(\"loop ended naturally\")"
   ]
  },
  {
   "cell_type": "markdown",
   "id": "81ebde12",
   "metadata": {},
   "source": [
    "### For Loop \n",
    "- Used to iterate over a sequence (list , Dictionary , Sting, tuple) on a range of numbers and perform actions on each elements in the sequence .\n",
    "- Ideal for executing a block of code a specific number of times\n"
   ]
  },
  {
   "cell_type": "code",
   "execution_count": 71,
   "id": "a616d012",
   "metadata": {},
   "outputs": [
    {
     "name": "stdout",
     "output_type": "stream",
     "text": [
      "hello world 1\n",
      "hello world 2\n",
      "hello world 3\n",
      "hello world 4\n",
      "hello world 5\n",
      "hello world 6\n",
      "hello world 7\n",
      "hello world 8\n",
      "hello world 9\n",
      "hello world 10\n"
     ]
    }
   ],
   "source": [
    "# Using for loop with the range function\n",
    "for i in range(1,11):\n",
    "    print(f\"hello world {i}\")\n"
   ]
  },
  {
   "cell_type": "code",
   "execution_count": 72,
   "id": "82673bc6",
   "metadata": {},
   "outputs": [
    {
     "name": "stdout",
     "output_type": "stream",
     "text": [
      "15\n"
     ]
    }
   ],
   "source": [
    "n = input(\"enter a number\")\n",
    "n = int(n)\n",
    "i = 1\n",
    "s = 0\n",
    "while i <= n:\n",
    "    s += i\n",
    "    i += 1\n",
    "print(s)\n"
   ]
  },
  {
   "cell_type": "code",
   "execution_count": null,
   "id": "cf6d59ea",
   "metadata": {},
   "outputs": [
    {
     "name": "stdout",
     "output_type": "stream",
     "text": [
      "9\n"
     ]
    }
   ],
   "source": [
    "# step is added in range\n",
    "n = int(input(\"enter a number\"))\n",
    "s = 0\n",
    "for i in range(1,n+1,2): \n",
    "    s += i\n",
    "    \n",
    "print(s)\n"
   ]
  },
  {
   "cell_type": "code",
   "execution_count": 11,
   "id": "17124991",
   "metadata": {},
   "outputs": [
    {
     "name": "stdout",
     "output_type": "stream",
     "text": [
      "10\n",
      "9\n",
      "8\n",
      "7\n",
      "6\n",
      "5\n",
      "4\n",
      "3\n",
      "2\n"
     ]
    }
   ],
   "source": [
    "n = int(input(\"enter a number\"))\n",
    "for i in range(n , 1 , -1):\n",
    "    print(i)\n"
   ]
  },
  {
   "cell_type": "code",
   "execution_count": null,
   "id": "7ec384e0",
   "metadata": {},
   "outputs": [
    {
     "name": "stdout",
     "output_type": "stream",
     "text": [
      "a\n",
      "b\n",
      "c\n",
      "d\n",
      "e\n"
     ]
    }
   ],
   "source": [
    "# to prnt the list\n",
    "chars = [\"a\", \"b\", \"c\", \"d\" ,\"e\"]\n",
    "for i in chars:\n",
    "    print(i)"
   ]
  },
  {
   "cell_type": "code",
   "execution_count": 15,
   "id": "377b288a",
   "metadata": {},
   "outputs": [
    {
     "name": "stdout",
     "output_type": "stream",
     "text": [
      "d\n",
      "b\n",
      "e\n",
      "c\n",
      "a\n"
     ]
    }
   ],
   "source": [
    "# to print a tuple\n",
    "for i in {\"a\",\"b\",\"c\",\"d\",\"e\"}:\n",
    "    print(i)"
   ]
  },
  {
   "cell_type": "code",
   "execution_count": 16,
   "id": "0f657958",
   "metadata": {},
   "outputs": [
    {
     "name": "stdout",
     "output_type": "stream",
     "text": [
      "1.8\n",
      "2\n",
      "4.5\n",
      "5\n"
     ]
    }
   ],
   "source": [
    "for i in (1.8 , 2, 4.5 ,5):\n",
    "    print(i)"
   ]
  },
  {
   "cell_type": "code",
   "execution_count": 19,
   "id": "ef3f4de6",
   "metadata": {},
   "outputs": [
    {
     "name": "stdout",
     "output_type": "stream",
     "text": [
      "120\n"
     ]
    }
   ],
   "source": [
    "n =  int(input(\"enter a number\"))\n",
    "fact = 1\n",
    "for i in range(1,n+1):\n",
    "    fact *= i\n",
    "print(fact)"
   ]
  },
  {
   "cell_type": "code",
   "execution_count": 21,
   "id": "7f8ad9ae",
   "metadata": {},
   "outputs": [
    {
     "name": "stdout",
     "output_type": "stream",
     "text": [
      "1 1\n",
      "1 2\n",
      "1 3\n",
      "1 4\n",
      "1 5\n",
      "2 1\n",
      "2 2\n",
      "2 3\n",
      "2 4\n",
      "2 5\n",
      "3 1\n",
      "3 2\n",
      "3 3\n",
      "3 4\n",
      "3 5\n",
      "4 1\n",
      "4 2\n",
      "4 3\n",
      "4 4\n",
      "4 5\n",
      "5 1\n",
      "5 2\n",
      "5 3\n",
      "5 4\n",
      "5 5\n"
     ]
    }
   ],
   "source": [
    "# nested loops\n",
    "for i in range(1,6):\n",
    "    for j in range(1,6):\n",
    "        print(i , j)"
   ]
  },
  {
   "cell_type": "code",
   "execution_count": 28,
   "id": "fcf675e8",
   "metadata": {},
   "outputs": [
    {
     "name": "stdout",
     "output_type": "stream",
     "text": [
      "1 1\n",
      "1 2\n",
      "1 3\n",
      "1 4\n",
      "1 5\n"
     ]
    }
   ],
   "source": [
    "i = 1\n",
    "j= 1\n",
    "while i <= 5:\n",
    "    while j <=5:\n",
    "        print(i,j)\n",
    "        j += i\n",
    "    i += 1"
   ]
  },
  {
   "cell_type": "code",
   "execution_count": 27,
   "id": "51583419",
   "metadata": {},
   "outputs": [
    {
     "name": "stdout",
     "output_type": "stream",
     "text": [
      "1 1\n",
      "1 2\n",
      "1 3\n",
      "1 4\n",
      "1 5\n",
      "2 1\n",
      "2 3\n",
      "2 5\n",
      "3 1\n",
      "3 4\n",
      "4 1\n",
      "4 5\n",
      "5 1\n"
     ]
    }
   ],
   "source": [
    "i = 1\n",
    "while i <= 5:\n",
    "    j= 1\n",
    "    while j <=5:\n",
    "        print(i,j)\n",
    "        j += i\n",
    "    i += 1"
   ]
  },
  {
   "cell_type": "code",
   "execution_count": 34,
   "id": "58bcd703",
   "metadata": {},
   "outputs": [
    {
     "name": "stdout",
     "output_type": "stream",
     "text": [
      "k\n",
      "i\n",
      "m\n",
      "a\n",
      "y\n",
      "a\n"
     ]
    }
   ],
   "source": [
    "# name = input(\"enter name\")\n",
    "for i in \"kimaya\":\n",
    "    print(i)"
   ]
  },
  {
   "cell_type": "code",
   "execution_count": null,
   "id": "d04bf6ec",
   "metadata": {},
   "outputs": [],
   "source": []
  }
 ],
 "metadata": {
  "kernelspec": {
   "display_name": "ml1",
   "language": "python",
   "name": "python3"
  },
  "language_info": {
   "codemirror_mode": {
    "name": "ipython",
    "version": 3
   },
   "file_extension": ".py",
   "mimetype": "text/x-python",
   "name": "python",
   "nbconvert_exporter": "python",
   "pygments_lexer": "ipython3",
   "version": "3.12.11"
  }
 },
 "nbformat": 4,
 "nbformat_minor": 5
}
