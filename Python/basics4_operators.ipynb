{
 "cells": [
  {
   "cell_type": "markdown",
   "id": "2afc0bf7",
   "metadata": {},
   "source": [
    "### Operators in Python\n"
   ]
  },
  {
   "cell_type": "code",
   "execution_count": null,
   "id": "63a7c10a",
   "metadata": {},
   "outputs": [],
   "source": [
    "a = 10\n",
    "b= 3\n"
   ]
  },
  {
   "cell_type": "code",
   "execution_count": null,
   "id": "e5f3fe14",
   "metadata": {},
   "outputs": [
    {
     "name": "stdout",
     "output_type": "stream",
     "text": [
      "13\n",
      "7\n",
      "3.3333333333333335\n",
      "30\n",
      "1\n",
      "1000\n",
      "3\n"
     ]
    }
   ],
   "source": [
    "# These are arithmetic operations\n",
    "print(a+b)\n",
    "print(a-b)\n",
    "print(a/b)\n",
    "print(a*b)\n",
    "print(a%b)\n",
    "print(a**b)\n",
    "print(a//b)"
   ]
  },
  {
   "cell_type": "code",
   "execution_count": 6,
   "id": "3f00d496",
   "metadata": {},
   "outputs": [
    {
     "name": "stdout",
     "output_type": "stream",
     "text": [
      "False\n",
      "True\n",
      "True\n",
      "False\n",
      "True\n",
      "False\n"
     ]
    }
   ],
   "source": [
    "# Relational / Comparision operator\n",
    "# Equal to\n",
    "print(a==b)\n",
    "# not equal to\n",
    "print(a!=b)\n",
    "# greater than less than\n",
    "print(a>b)\n",
    "print(a<b)\n",
    "# greater than equal to less than equal to \n",
    "print(a>=b)\n",
    "print(a<=b)\n"
   ]
  },
  {
   "cell_type": "code",
   "execution_count": 9,
   "id": "5ddb1334",
   "metadata": {},
   "outputs": [
    {
     "name": "stdout",
     "output_type": "stream",
     "text": [
      "0\n",
      "True\n",
      "False\n"
     ]
    }
   ],
   "source": [
    "# Logical operators They are used to combine multile conditions and return a true or a false value\n",
    "a = 10\n",
    "b = 0\n",
    "print(a and b)\n",
    "print((5>3)and(3>1))\n",
    "print((5<3)and(3>1))"
   ]
  },
  {
   "cell_type": "code",
   "execution_count": null,
   "id": "286a44d5",
   "metadata": {},
   "outputs": [
    {
     "name": "stdout",
     "output_type": "stream",
     "text": [
      "10\n",
      "True\n",
      "True\n"
     ]
    }
   ],
   "source": [
    "# or\n",
    "print(a or b)\n",
    "print((5>3)or(3>1))\n",
    "print((5<3)or(3>1))"
   ]
  },
  {
   "cell_type": "code",
   "execution_count": 14,
   "id": "d208a501",
   "metadata": {},
   "outputs": [
    {
     "name": "stdout",
     "output_type": "stream",
     "text": [
      "True\n",
      "False\n",
      "True\n"
     ]
    }
   ],
   "source": [
    "# not\n",
    "print(not b)\n",
    "print(not a)\n",
    "print(not (5<3))"
   ]
  },
  {
   "cell_type": "code",
   "execution_count": 17,
   "id": "14cc59df",
   "metadata": {},
   "outputs": [
    {
     "name": "stdout",
     "output_type": "stream",
     "text": [
      "1\n",
      "7\n",
      "6\n",
      "-6\n",
      "10\n",
      "2\n"
     ]
    }
   ],
   "source": [
    "# Bitwise operators\n",
    "# bitwise &\n",
    "a = 5\n",
    "b = 3\n",
    "# &\n",
    "print(a&b)\n",
    "# or\n",
    "print(a|b)\n",
    "# xor\n",
    "print(a^b)\n",
    "# not\n",
    "print(~a)\n",
    "# left shift (multiplication by 2)\n",
    "print(a<<1) \n",
    "# right shift (divide by 2)\n",
    "print(a>>1)"
   ]
  },
  {
   "cell_type": "code",
   "execution_count": 38,
   "id": "328ef429",
   "metadata": {},
   "outputs": [],
   "source": [
    "# Assignment operators these are used to assign values to the variables (calculate and update)\n",
    "a= 8\n",
    "# Simple assignment"
   ]
  },
  {
   "cell_type": "code",
   "execution_count": 39,
   "id": "96b68182",
   "metadata": {},
   "outputs": [],
   "source": [
    "a += 3\n",
    "# a = a+3"
   ]
  },
  {
   "cell_type": "code",
   "execution_count": 40,
   "id": "72991970",
   "metadata": {},
   "outputs": [
    {
     "name": "stdout",
     "output_type": "stream",
     "text": [
      "11\n"
     ]
    }
   ],
   "source": [
    "# add and assign\n",
    "print(a)"
   ]
  },
  {
   "cell_type": "code",
   "execution_count": 41,
   "id": "a2bb96f7",
   "metadata": {},
   "outputs": [
    {
     "name": "stdout",
     "output_type": "stream",
     "text": [
      "8\n"
     ]
    }
   ],
   "source": [
    "# sub and assign \n",
    "a -= 3\n",
    "print(a)"
   ]
  },
  {
   "cell_type": "code",
   "execution_count": 42,
   "id": "ed8be37e",
   "metadata": {},
   "outputs": [
    {
     "name": "stdout",
     "output_type": "stream",
     "text": [
      "72\n"
     ]
    }
   ],
   "source": [
    "# multiply and assign\n",
    "a *= 9\n",
    "print(a)"
   ]
  },
  {
   "cell_type": "code",
   "execution_count": 43,
   "id": "0c6b938d",
   "metadata": {},
   "outputs": [
    {
     "name": "stdout",
     "output_type": "stream",
     "text": [
      "24.0\n"
     ]
    }
   ],
   "source": [
    "# divide and assign\n",
    "a /= 3\n",
    "print(a)"
   ]
  },
  {
   "cell_type": "code",
   "execution_count": null,
   "id": "45b710ef",
   "metadata": {},
   "outputs": [
    {
     "name": "stdout",
     "output_type": "stream",
     "text": [
      "0.0\n"
     ]
    }
   ],
   "source": [
    "# # float divide and assign\n",
    "# a //= 3\n",
    "# print(a)"
   ]
  },
  {
   "cell_type": "code",
   "execution_count": 44,
   "id": "27e17d14",
   "metadata": {},
   "outputs": [
    {
     "name": "stdout",
     "output_type": "stream",
     "text": [
      "13824.0\n"
     ]
    }
   ],
   "source": [
    "# exponential and assign\n",
    "a **= 3\n",
    "print(a)"
   ]
  },
  {
   "cell_type": "code",
   "execution_count": 45,
   "id": "ff0cbe0a",
   "metadata": {},
   "outputs": [
    {
     "name": "stdout",
     "output_type": "stream",
     "text": [
      "0.0\n"
     ]
    }
   ],
   "source": [
    "# modulus and assign \n",
    "a %= 2\n",
    "print(a)"
   ]
  },
  {
   "cell_type": "code",
   "execution_count": null,
   "id": "46cf6822",
   "metadata": {},
   "outputs": [
    {
     "name": "stdout",
     "output_type": "stream",
     "text": [
      "True\n",
      "False\n",
      "True\n"
     ]
    }
   ],
   "source": [
    "# Membership operators\n",
    "# used to test whether a value is a member of a sequence tuple / string\n",
    "# in : True if present in sequence\n",
    "# not in : True if not present in sequence\n",
    "print(\"a\" in \"apple\")\n",
    "print(\"b\" in \"apple\")\n",
    "print(\"b\" not in \"apple\")\n",
    "\n"
   ]
  },
  {
   "cell_type": "code",
   "execution_count": 51,
   "id": "e45dfd4b",
   "metadata": {},
   "outputs": [
    {
     "name": "stdout",
     "output_type": "stream",
     "text": [
      "False\n",
      "True\n"
     ]
    }
   ],
   "source": [
    "Fruits = [\"Apple , Banana , Lemon , Grapes\"]\n",
    "print(\"Coconut\" in \"Fruits\") \n",
    "print(\"Coconut\" not in \"Fruits\")"
   ]
  },
  {
   "cell_type": "code",
   "execution_count": null,
   "id": "7db9aa23",
   "metadata": {},
   "outputs": [],
   "source": []
  }
 ],
 "metadata": {
  "kernelspec": {
   "display_name": "ml1",
   "language": "python",
   "name": "python3"
  },
  "language_info": {
   "codemirror_mode": {
    "name": "ipython",
    "version": 3
   },
   "file_extension": ".py",
   "mimetype": "text/x-python",
   "name": "python",
   "nbconvert_exporter": "python",
   "pygments_lexer": "ipython3",
   "version": "3.12.11"
  }
 },
 "nbformat": 4,
 "nbformat_minor": 5
}
