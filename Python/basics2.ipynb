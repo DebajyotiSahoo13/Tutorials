{
 "cells": [
  {
   "cell_type": "markdown",
   "id": "bc9f2d5b",
   "metadata": {},
   "source": [
    "## Data Types"
   ]
  },
  {
   "cell_type": "markdown",
   "id": "b0fe7c54",
   "metadata": {},
   "source": [
    "- data types represent the kind of value a variable can hold , how that data is represented in memory , and the operations that can be performed on it."
   ]
  },
  {
   "cell_type": "markdown",
   "id": "c22501fd",
   "metadata": {},
   "source": [
    "#### Primitive data types:\n",
    "- Int: whole nu,bers (42)\n",
    "- Float: numbers with decimals (2.46)\n",
    "- Boolean: Logical values (True/ False)\n",
    "- Character: Single Character (A)\n",
    "\n",
    "#### Composite/Sequence data types:\n",
    "- Array: A collection of type of the same data type\n",
    "- Sring: A segment of characters (\"Hello world\")\n",
    "- Lists, Tuple and range"
   ]
  },
  {
   "cell_type": "markdown",
   "id": "a87d4cc9",
   "metadata": {},
   "source": []
  },
  {
   "cell_type": "code",
   "execution_count": 13,
   "id": "03c8980f",
   "metadata": {},
   "outputs": [
    {
     "name": "stdout",
     "output_type": "stream",
     "text": [
      "8\n",
      "1e+308\n",
      "inf\n",
      "-1e+308\n",
      "-1e+307\n",
      "-inf\n"
     ]
    }
   ],
   "source": [
    "#### Python Data types\n",
    "# Integer(int) \n",
    "print(8)\n",
    "# Python can handle till 10^308 \n",
    "print(1e308)\n",
    "print(1e309)\n",
    "# negative values till -10^308\n",
    "print(-1e308)\n",
    "print(-1e307)\n",
    "print(-1e309)"
   ]
  },
  {
   "cell_type": "code",
   "execution_count": 19,
   "id": "57614248",
   "metadata": {},
   "outputs": [
    {
     "name": "stdout",
     "output_type": "stream",
     "text": [
      "3.14\n",
      "(3+5j)\n",
      "True\n"
     ]
    }
   ],
   "source": [
    "# Float / Decimal \n",
    "print(3.14)\n",
    "\n",
    "# Complex numbers\n",
    "print(3+5j)\n",
    "\n",
    "# Boolean type\n",
    "print(True)"
   ]
  },
  {
   "cell_type": "markdown",
   "id": "39c10b5d",
   "metadata": {},
   "source": [
    "## Variables\n",
    "- Container where we are storing the information about the Data like floating, integer, strings"
   ]
  },
  {
   "cell_type": "code",
   "execution_count": 24,
   "id": "6ed36f98",
   "metadata": {},
   "outputs": [
    {
     "name": "stdout",
     "output_type": "stream",
     "text": [
      "2\n",
      "3\n",
      "5\n"
     ]
    }
   ],
   "source": [
    "num1 = 2\n",
    "print(num1)\n",
    "num2 = 3\n",
    "print(num2)\n",
    "num3 = num1 + num2\n",
    "print(num3)"
   ]
  },
  {
   "cell_type": "code",
   "execution_count": 25,
   "id": "7caa4bd8",
   "metadata": {},
   "outputs": [
    {
     "name": "stdout",
     "output_type": "stream",
     "text": [
      "6\n"
     ]
    }
   ],
   "source": [
    "num1 = 2\n",
    "num2 = 3\n",
    "num3 = num1 * num2\n",
    "print(num3)"
   ]
  },
  {
   "cell_type": "code",
   "execution_count": null,
   "id": "458744c2",
   "metadata": {},
   "outputs": [
    {
     "name": "stdout",
     "output_type": "stream",
     "text": [
      "Fermat\n"
     ]
    }
   ],
   "source": [
    "name=\"Fermat\"\n",
    "print(name)\n"
   ]
  },
  {
   "cell_type": "markdown",
   "id": "3ca42343",
   "metadata": {},
   "source": [
    "- Variable name cannot start with a number (1num), we can have number in between (nu1m)\n",
    "- Variable cannot start with an hiphen and cannot also have a special character (-, @)\n",
    "- user_one_name=\"Fermat\"  #sanke case writing\n",
    "- useronename = \"pierre\"  #camel case writing"
   ]
  },
  {
   "cell_type": "code",
   "execution_count": null,
   "id": "fcde6b8d",
   "metadata": {},
   "outputs": [
    {
     "ename": "SyntaxError",
     "evalue": "invalid syntax. Maybe you meant '==' or ':=' instead of '='? (2642626821.py, line 1)",
     "output_type": "error",
     "traceback": [
      "  \u001b[36mCell\u001b[39m\u001b[36m \u001b[39m\u001b[32mIn[35]\u001b[39m\u001b[32m, line 1\u001b[39m\n\u001b[31m    \u001b[39m\u001b[31m@num=4\u001b[39m\n     ^\n\u001b[31mSyntaxError\u001b[39m\u001b[31m:\u001b[39m invalid syntax. Maybe you meant '==' or ':=' instead of '='?\n"
     ]
    }
   ],
   "source": [
    "@num=4\n",
    "print(@num)"
   ]
  },
  {
   "cell_type": "code",
   "execution_count": 43,
   "id": "2b56fdeb",
   "metadata": {},
   "outputs": [
    {
     "name": "stdout",
     "output_type": "stream",
     "text": [
      "kimaya 23\n",
      "kimaya@23\n",
      "my name is kimaya and my age is 23\n"
     ]
    }
   ],
   "source": [
    "name, age = \"kimaya\" , 23\n",
    "print(name,age)\n",
    "print(name,age,sep=\"@\")\n",
    "print(\"my name is \" + name + \" and my age is \" + str(age))"
   ]
  },
  {
   "cell_type": "code",
   "execution_count": null,
   "id": "d3640839",
   "metadata": {},
   "outputs": [
    {
     "name": "stdout",
     "output_type": "stream",
     "text": [
      "180\n"
     ]
    }
   ],
   "source": [
    "a=b=c= 60\n",
    "print(a+b+c)\n"
   ]
  },
  {
   "cell_type": "code",
   "execution_count": 46,
   "id": "ac911c55",
   "metadata": {},
   "outputs": [
    {
     "name": "stdout",
     "output_type": "stream",
     "text": [
      "180\n"
     ]
    }
   ],
   "source": [
    "a,b,c = 90, 45, 45\n",
    "print(a+b+c)"
   ]
  },
  {
   "cell_type": "code",
   "execution_count": 51,
   "id": "e7da6089",
   "metadata": {},
   "outputs": [
    {
     "name": "stdout",
     "output_type": "stream",
     "text": [
      "my name is Kimaya and my age is 23\n"
     ]
    }
   ],
   "source": [
    "name , age = \"Kimaya\" , 23\n",
    "print(\"my name is \" + name + \" and my age is \" + str(age))"
   ]
  },
  {
   "cell_type": "markdown",
   "id": "efe8b9ea",
   "metadata": {},
   "source": [
    "## String (Str)\n",
    "- Sequence of characters enclosed in single/ double qoutes\n",
    "- Strings are immutable (Values cannot be changed) \n",
    "- They are indexable which means we can access individual characters via their index"
   ]
  },
  {
   "cell_type": "code",
   "execution_count": 55,
   "id": "7650c33e",
   "metadata": {},
   "outputs": [
    {
     "name": "stdout",
     "output_type": "stream",
     "text": [
      "Pierre de Fermat\n",
      "P\n",
      "t\n",
      "16\n"
     ]
    }
   ],
   "source": [
    "name = \"Pierre de Fermat\"\n",
    "print(name)\n",
    "print(name[0])\n",
    "print(name[-1])\n",
    "print(len(name))"
   ]
  },
  {
   "cell_type": "markdown",
   "id": "8678c7f3",
   "metadata": {},
   "source": [
    "### List (list)\n",
    "- Collection of items which can be of different data types and are defined using square brackets.  \n",
    "- The difference between aray and list is array should have a same data type while lists are heterogeneous in nature (lists are ideal in cases where we need dynamic array)\n",
    "- They are mutable , ordered (items have a specific order) , and they are indexable.\n"
   ]
  },
  {
   "cell_type": "code",
   "execution_count": 56,
   "id": "119dcfa1",
   "metadata": {},
   "outputs": [
    {
     "name": "stdout",
     "output_type": "stream",
     "text": [
      "['Apple', 'Grapes', 'Papaya']\n"
     ]
    }
   ],
   "source": [
    "fruits = [\"Apple\", \"Grapes\" , \"Papaya\" ]\n",
    "print(fruits)"
   ]
  },
  {
   "cell_type": "code",
   "execution_count": 59,
   "id": "0c9fcbfd",
   "metadata": {},
   "outputs": [
    {
     "data": {
      "text/plain": [
       "str"
      ]
     },
     "execution_count": 59,
     "metadata": {},
     "output_type": "execute_result"
    }
   ],
   "source": [
    "type(fruits)\n",
    "type(name)"
   ]
  },
  {
   "cell_type": "markdown",
   "id": "1fc0d372",
   "metadata": {},
   "source": [
    "### Tuples \n",
    "- Ordered collecion of items similar to lists but defined with ().\n",
    "- They are immutable (once created a tuple's content cannot be changed) , they are indexable.\n",
    "- ue to immutability tuples are typicaly faster and use less memoery than lists and we use tuples when we want to create a constant sequence of elements that should no be modified."
   ]
  },
  {
   "cell_type": "code",
   "execution_count": 61,
   "id": "2b2f204c",
   "metadata": {},
   "outputs": [
    {
     "name": "stdout",
     "output_type": "stream",
     "text": [
      "(30, 60, 90)\n",
      "<class 'tuple'>\n"
     ]
    }
   ],
   "source": [
    "angles = (30, 60, 90)\n",
    "print(angles)\n",
    "print(type(angles))"
   ]
  },
  {
   "cell_type": "markdown",
   "id": "a6610a70",
   "metadata": {},
   "source": [
    "### Range (range)\n",
    "- Represents a sequence of number items used in loops."
   ]
  },
  {
   "cell_type": "code",
   "execution_count": 63,
   "id": "b8599944",
   "metadata": {},
   "outputs": [
    {
     "name": "stdout",
     "output_type": "stream",
     "text": [
      "range(1, 10)\n",
      "<class 'range'>\n"
     ]
    }
   ],
   "source": [
    "numbers = range(1,10)\n",
    "print(numbers)\n",
    "print(type(numbers))"
   ]
  },
  {
   "cell_type": "code",
   "execution_count": null,
   "id": "3c043704",
   "metadata": {},
   "outputs": [],
   "source": []
  }
 ],
 "metadata": {
  "kernelspec": {
   "display_name": "ml1",
   "language": "python",
   "name": "python3"
  },
  "language_info": {
   "codemirror_mode": {
    "name": "ipython",
    "version": 3
   },
   "file_extension": ".py",
   "mimetype": "text/x-python",
   "name": "python",
   "nbconvert_exporter": "python",
   "pygments_lexer": "ipython3",
   "version": "3.12.11"
  }
 },
 "nbformat": 4,
 "nbformat_minor": 5
}
