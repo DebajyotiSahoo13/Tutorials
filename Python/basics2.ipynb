{
 "cells": [
  {
   "cell_type": "markdown",
   "id": "bc9f2d5b",
   "metadata": {},
   "source": [
    "## Data Types"
   ]
  },
  {
   "cell_type": "markdown",
   "id": "b0fe7c54",
   "metadata": {},
   "source": [
    "- data types represent the kind of value a variable can hold , how that data is represented in memory , and the operations that can be performed on it."
   ]
  },
  {
   "cell_type": "markdown",
   "id": "c22501fd",
   "metadata": {},
   "source": [
    "#### Primitive data types:\n",
    "- Int: whole nu,bers (42)\n",
    "- Float: numbers with decimals (2.46)\n",
    "- Boolean: Logical values (True/ False)\n",
    "- Character: Single Character (A)\n",
    "\n",
    "#### Composite/Sequence data types:\n",
    "- Array: A collection of type of the same data type\n",
    "- Sring: A segment of characters (\"Hello world\")\n",
    "- Lists, Tuple and range"
   ]
  },
  {
   "cell_type": "markdown",
   "id": "a87d4cc9",
   "metadata": {},
   "source": []
  },
  {
   "cell_type": "code",
   "execution_count": 13,
   "id": "03c8980f",
   "metadata": {},
   "outputs": [
    {
     "name": "stdout",
     "output_type": "stream",
     "text": [
      "8\n",
      "1e+308\n",
      "inf\n",
      "-1e+308\n",
      "-1e+307\n",
      "-inf\n"
     ]
    }
   ],
   "source": [
    "#### Python Data types\n",
    "# Integer(int) \n",
    "print(8)\n",
    "# Python can handle till 10^308 \n",
    "print(1e308)\n",
    "print(1e309)\n",
    "# negative values till -10^308\n",
    "print(-1e308)\n",
    "print(-1e307)\n",
    "print(-1e309)"
   ]
  },
  {
   "cell_type": "code",
   "execution_count": 19,
   "id": "57614248",
   "metadata": {},
   "outputs": [
    {
     "name": "stdout",
     "output_type": "stream",
     "text": [
      "3.14\n",
      "(3+5j)\n",
      "True\n"
     ]
    }
   ],
   "source": [
    "# Float / Decimal \n",
    "print(3.14)\n",
    "\n",
    "# Complex numbers\n",
    "print(3+5j)\n",
    "\n",
    "# Boolean type\n",
    "print(True)"
   ]
  },
  {
   "cell_type": "markdown",
   "id": "39c10b5d",
   "metadata": {},
   "source": [
    "## Variables\n",
    "- Container where we are storing the information about the Data like floating, integer, strings"
   ]
  },
  {
   "cell_type": "code",
   "execution_count": 24,
   "id": "6ed36f98",
   "metadata": {},
   "outputs": [
    {
     "name": "stdout",
     "output_type": "stream",
     "text": [
      "2\n",
      "3\n",
      "5\n"
     ]
    }
   ],
   "source": [
    "num1 = 2\n",
    "print(num1)\n",
    "num2 = 3\n",
    "print(num2)\n",
    "num3 = num1 + num2\n",
    "print(num3)"
   ]
  },
  {
   "cell_type": "code",
   "execution_count": 25,
   "id": "7caa4bd8",
   "metadata": {},
   "outputs": [
    {
     "name": "stdout",
     "output_type": "stream",
     "text": [
      "6\n"
     ]
    }
   ],
   "source": [
    "num1 = 2\n",
    "num2 = 3\n",
    "num3 = num1 * num2\n",
    "print(num3)"
   ]
  },
  {
   "cell_type": "code",
   "execution_count": 27,
   "id": "458744c2",
   "metadata": {},
   "outputs": [
    {
     "name": "stdout",
     "output_type": "stream",
     "text": [
      "Fermat\n"
     ]
    }
   ],
   "source": [
    "name=\"Fermat\"\n",
    "print(name)\n"
   ]
  },
  {
   "cell_type": "markdown",
   "id": "3ca42343",
   "metadata": {},
   "source": [
    "- Variable name cannot start with a number (1num), we can have number in between (nu1m)\n",
    "- Variable cannot start with an hiphen and cannot also have a special character (-, @)\n",
    "- user_one_name=\"Fermat\"  #sanke case writing\n",
    "- useronename = \"pierre\"  #camel case writing"
   ]
  },
  {
   "cell_type": "code",
   "execution_count": 35,
   "id": "fcde6b8d",
   "metadata": {},
   "outputs": [
    {
     "ename": "SyntaxError",
     "evalue": "invalid syntax. Maybe you meant '==' or ':=' instead of '='? (2642626821.py, line 1)",
     "output_type": "error",
     "traceback": [
      "  \u001b[36mCell\u001b[39m\u001b[36m \u001b[39m\u001b[32mIn[35]\u001b[39m\u001b[32m, line 1\u001b[39m\n\u001b[31m    \u001b[39m\u001b[31m@num=4\u001b[39m\n     ^\n\u001b[31mSyntaxError\u001b[39m\u001b[31m:\u001b[39m invalid syntax. Maybe you meant '==' or ':=' instead of '='?\n"
     ]
    }
   ],
   "source": [
    "@num=4\n",
    "print(@num)"
   ]
  },
  {
   "cell_type": "code",
   "execution_count": 43,
   "id": "2b56fdeb",
   "metadata": {},
   "outputs": [
    {
     "name": "stdout",
     "output_type": "stream",
     "text": [
      "kimaya 23\n",
      "kimaya@23\n",
      "my name is kimaya and my age is 23\n"
     ]
    }
   ],
   "source": [
    "name, age = \"kimaya\" , 23\n",
    "print(name,age)\n",
    "print(name,age,sep=\"@\")\n",
    "print(\"my name is \" + name + \" and my age is \" + str(age))"
   ]
  },
  {
   "cell_type": "code",
   "execution_count": 45,
   "id": "d3640839",
   "metadata": {},
   "outputs": [
    {
     "name": "stdout",
     "output_type": "stream",
     "text": [
      "180\n"
     ]
    }
   ],
   "source": [
    "a=b=c= 60\n",
    "print(a+b+c)\n"
   ]
  },
  {
   "cell_type": "code",
   "execution_count": 46,
   "id": "ac911c55",
   "metadata": {},
   "outputs": [
    {
     "name": "stdout",
     "output_type": "stream",
     "text": [
      "180\n"
     ]
    }
   ],
   "source": [
    "a,b,c = 90, 45, 45\n",
    "print(a+b+c)"
   ]
  },
  {
   "cell_type": "code",
   "execution_count": 51,
   "id": "e7da6089",
   "metadata": {},
   "outputs": [
    {
     "name": "stdout",
     "output_type": "stream",
     "text": [
      "my name is Kimaya and my age is 23\n"
     ]
    }
   ],
   "source": [
    "name , age = \"Kimaya\" , 23\n",
    "print(\"my name is \" + name + \" and my age is \" + str(age))"
   ]
  },
  {
   "cell_type": "markdown",
   "id": "efe8b9ea",
   "metadata": {},
   "source": [
    "## String (Str)\n",
    "- Sequence of characters enclosed in single/ double qoutes\n",
    "- Strings are immutable (Values cannot be changed) \n",
    "- They are indexable which means we can access individual characters via their index"
   ]
  },
  {
   "cell_type": "code",
   "execution_count": 55,
   "id": "7650c33e",
   "metadata": {},
   "outputs": [
    {
     "name": "stdout",
     "output_type": "stream",
     "text": [
      "Pierre de Fermat\n",
      "P\n",
      "t\n",
      "16\n"
     ]
    }
   ],
   "source": [
    "name = \"Pierre de Fermat\"\n",
    "print(name)\n",
    "print(name[0])\n",
    "print(name[-1])\n",
    "print(len(name))"
   ]
  },
  {
   "cell_type": "code",
   "execution_count": 83,
   "id": "fbff8696",
   "metadata": {},
   "outputs": [
    {
     "name": "stdout",
     "output_type": "stream",
     "text": [
      "kimaya\n"
     ]
    }
   ],
   "source": [
    "name = \"kimaya\"\n",
    "name.replace(\"a\",\"A\")\n",
    "print(name)"
   ]
  },
  {
   "cell_type": "code",
   "execution_count": null,
   "id": "d6fbebe0",
   "metadata": {},
   "outputs": [
    {
     "name": "stdout",
     "output_type": "stream",
     "text": [
      "kimAyA\n"
     ]
    }
   ],
   "source": [
    "name = name.replace(\"a\",\"A\")\n",
    "print(name)\n",
    "'''\n",
    "name.replace(\"a\", \"A\")\n",
    "\n",
    ".replace() does not change the original string (because strings are immutable).\n",
    "\n",
    "Instead, it creates a new string object: \"kimAyA\".\n",
    "\n",
    "The old string \"kimaya\" is untouched.\n",
    "\n",
    "name = name.replace(\"a\", \"A\")\n",
    "\n",
    "The variable name is rebound (reassigned) to the new string \"kimAyA\".\n",
    "\n",
    "The old \"kimaya\" string still exists in memory, but since you no longer reference it, Python may garbage-collect it later.\n",
    "'''"
   ]
  },
  {
   "cell_type": "code",
   "execution_count": 74,
   "id": "6693b9df",
   "metadata": {},
   "outputs": [
    {
     "name": "stdout",
     "output_type": "stream",
     "text": [
      "hello hello hello\n"
     ]
    }
   ],
   "source": [
    "# Creating a sring\n",
    "str1 = 'hello'\n",
    "str2 = \"hello\"\n",
    "str3 = \"\"\"hello\"\"\"\n",
    "print(str1, str2, str3)"
   ]
  },
  {
   "cell_type": "code",
   "execution_count": null,
   "id": "bb3aac34",
   "metadata": {},
   "outputs": [
    {
     "name": "stdout",
     "output_type": "stream",
     "text": [
      "Hello\n",
      "world\n"
     ]
    }
   ],
   "source": [
    "# multiline strings\n",
    "str4 = '''Hello\n",
    "world'''\n",
    "\n",
    "print(str4)"
   ]
  },
  {
   "cell_type": "code",
   "execution_count": 77,
   "id": "453e42cd",
   "metadata": {},
   "outputs": [
    {
     "name": "stdout",
     "output_type": "stream",
     "text": [
      "hello24\n"
     ]
    }
   ],
   "source": [
    "# Using type conversion \n",
    "s = str(\"hello\")\n",
    "n = str(24)\n",
    "print(s+n)"
   ]
  },
  {
   "cell_type": "code",
   "execution_count": 79,
   "id": "de0debf0",
   "metadata": {},
   "outputs": [
    {
     "ename": "NameError",
     "evalue": "name 'n' is not defined",
     "output_type": "error",
     "traceback": [
      "\u001b[31m---------------------------------------------------------------------------\u001b[39m",
      "\u001b[31mNameError\u001b[39m                                 Traceback (most recent call last)",
      "\u001b[36mCell\u001b[39m\u001b[36m \u001b[39m\u001b[32mIn[79]\u001b[39m\u001b[32m, line 1\u001b[39m\n\u001b[32m----> \u001b[39m\u001b[32m1\u001b[39m \u001b[38;5;28;01mdel\u001b[39;00m(\u001b[43mn\u001b[49m)\n\u001b[32m      2\u001b[39m \u001b[38;5;28mprint\u001b[39m(s+n)\n",
      "\u001b[31mNameError\u001b[39m: name 'n' is not defined"
     ]
    }
   ],
   "source": [
    "del(n)\n",
    "print(s+n)"
   ]
  },
  {
   "cell_type": "code",
   "execution_count": 80,
   "id": "21dce0ca",
   "metadata": {},
   "outputs": [
    {
     "name": "stdout",
     "output_type": "stream",
     "text": [
      "bikanerbikanerbikanerbikanerbikaner\n"
     ]
    }
   ],
   "source": [
    "print(\"bikaner\"*5)"
   ]
  },
  {
   "cell_type": "markdown",
   "id": "8678c7f3",
   "metadata": {},
   "source": [
    "### List (list)\n",
    "- Collection of items which can be of different data types and are defined using square brackets.  \n",
    "- The difference between aray and list is array should have a same data type while lists are heterogeneous in nature (lists are ideal in cases where we need dynamic array)\n",
    "- They are mutable , ordered (items have a specific order) , and they are indexable.\n"
   ]
  },
  {
   "cell_type": "code",
   "execution_count": 56,
   "id": "119dcfa1",
   "metadata": {},
   "outputs": [
    {
     "name": "stdout",
     "output_type": "stream",
     "text": [
      "['Apple', 'Grapes', 'Papaya']\n"
     ]
    }
   ],
   "source": [
    "fruits = [\"Apple\", \"Grapes\" , \"Papaya\" ]\n",
    "print(fruits)"
   ]
  },
  {
   "cell_type": "code",
   "execution_count": 59,
   "id": "0c9fcbfd",
   "metadata": {},
   "outputs": [
    {
     "data": {
      "text/plain": [
       "str"
      ]
     },
     "execution_count": 59,
     "metadata": {},
     "output_type": "execute_result"
    }
   ],
   "source": [
    "type(fruits)\n",
    "type(name)"
   ]
  },
  {
   "cell_type": "markdown",
   "id": "1fc0d372",
   "metadata": {},
   "source": [
    "### Tuples \n",
    "- Ordered collecion of items similar to lists but defined with ().\n",
    "- They are immutable (once created a tuple's content cannot be changed) , they are indexable.\n",
    "- ue to immutability tuples are typicaly faster and use less memoery than lists and we use tuples when we want to create a constant sequence of elements that should no be modified."
   ]
  },
  {
   "cell_type": "code",
   "execution_count": 61,
   "id": "2b2f204c",
   "metadata": {},
   "outputs": [
    {
     "name": "stdout",
     "output_type": "stream",
     "text": [
      "(30, 60, 90)\n",
      "<class 'tuple'>\n"
     ]
    }
   ],
   "source": [
    "angles = (30, 60, 90)\n",
    "print(angles)\n",
    "print(type(angles))"
   ]
  },
  {
   "cell_type": "markdown",
   "id": "a6610a70",
   "metadata": {},
   "source": [
    "### Range (range)\n",
    "- Represents a sequence of number items used in loops."
   ]
  },
  {
   "cell_type": "code",
   "execution_count": 63,
   "id": "b8599944",
   "metadata": {},
   "outputs": [
    {
     "name": "stdout",
     "output_type": "stream",
     "text": [
      "range(1, 10)\n",
      "<class 'range'>\n"
     ]
    }
   ],
   "source": [
    "numbers = range(1,10)\n",
    "print(numbers)\n",
    "print(type(numbers))"
   ]
  },
  {
   "cell_type": "markdown",
   "id": "e99b967f",
   "metadata": {},
   "source": [
    "### Set\n",
    "- Collection of unordered unique items defined using curly braces or set().\n",
    "- They are mutable and unordered and are unique elements"
   ]
  },
  {
   "cell_type": "code",
   "execution_count": 64,
   "id": "3c043704",
   "metadata": {},
   "outputs": [
    {
     "name": "stdout",
     "output_type": "stream",
     "text": [
      "{1, 2, 3, 4, 5, 6}\n",
      "<class 'set'>\n"
     ]
    }
   ],
   "source": [
    "nums = {1,2,3,4,5,6}\n",
    "print(nums)\n",
    "print(type(nums))"
   ]
  },
  {
   "cell_type": "code",
   "execution_count": 65,
   "id": "49f75fc9",
   "metadata": {},
   "outputs": [
    {
     "name": "stdout",
     "output_type": "stream",
     "text": [
      "{1, 2, 3, 4, 5, 6}\n",
      "<class 'set'>\n"
     ]
    }
   ],
   "source": [
    "nums = {1,2,3,4,5,5,6}\n",
    "print(nums)\n",
    "print(type(nums))"
   ]
  },
  {
   "cell_type": "markdown",
   "id": "6a898f34",
   "metadata": {},
   "source": [
    "### Dictionary\n",
    "- Collecion of key value pairs defined using curly braces .\n",
    "- They are mutable and they must have unique keys (each key can be unique while values can be duplicated)\n",
    "- We don't index the dictionay we do key access\n",
    "- keys and values are seperated by colon"
   ]
  },
  {
   "cell_type": "code",
   "execution_count": 67,
   "id": "c91fd625",
   "metadata": {},
   "outputs": [],
   "source": [
    "student = {\n",
    "    \"name\" : \"kimaya\",\n",
    "    \"age\" : 23,\n",
    "    \"grade\" : \"B\"\n",
    "}"
   ]
  },
  {
   "cell_type": "code",
   "execution_count": 68,
   "id": "bd09c54c",
   "metadata": {},
   "outputs": [
    {
     "data": {
      "text/plain": [
       "dict"
      ]
     },
     "execution_count": 68,
     "metadata": {},
     "output_type": "execute_result"
    }
   ],
   "source": [
    "type(student)"
   ]
  },
  {
   "cell_type": "code",
   "execution_count": 69,
   "id": "251196b5",
   "metadata": {},
   "outputs": [
    {
     "name": "stdout",
     "output_type": "stream",
     "text": [
      "23\n"
     ]
    }
   ],
   "source": [
    "print(student[\"age\"])"
   ]
  },
  {
   "cell_type": "markdown",
   "id": "54b43ee0",
   "metadata": {},
   "source": [
    "### Type Function (type)\n",
    "- Helps in detecting data types being used."
   ]
  },
  {
   "cell_type": "code",
   "execution_count": 70,
   "id": "fed52560",
   "metadata": {},
   "outputs": [
    {
     "name": "stdout",
     "output_type": "stream",
     "text": [
      "<class 'float'>\n"
     ]
    }
   ],
   "source": [
    "print(type(3.5))"
   ]
  },
  {
   "cell_type": "code",
   "execution_count": 71,
   "id": "f2672d84",
   "metadata": {},
   "outputs": [
    {
     "name": "stdout",
     "output_type": "stream",
     "text": [
      "<class 'complex'>\n"
     ]
    }
   ],
   "source": [
    "print(type(3+5j))"
   ]
  },
  {
   "cell_type": "code",
   "execution_count": 73,
   "id": "2759f1a3",
   "metadata": {},
   "outputs": [
    {
     "name": "stdout",
     "output_type": "stream",
     "text": [
      "<class 'set'>\n"
     ]
    }
   ],
   "source": [
    "print(type({1,2,3}))"
   ]
  },
  {
   "cell_type": "code",
   "execution_count": null,
   "id": "1a32fbe2",
   "metadata": {},
   "outputs": [],
   "source": []
  }
 ],
 "metadata": {
  "kernelspec": {
   "display_name": "ml1",
   "language": "python",
   "name": "python3"
  },
  "language_info": {
   "codemirror_mode": {
    "name": "ipython",
    "version": 3
   },
   "file_extension": ".py",
   "mimetype": "text/x-python",
   "name": "python",
   "nbconvert_exporter": "python",
   "pygments_lexer": "ipython3",
   "version": "3.12.11"
  }
 },
 "nbformat": 4,
 "nbformat_minor": 5
}
