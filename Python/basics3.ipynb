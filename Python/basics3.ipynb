{
 "cells": [
  {
   "cell_type": "markdown",
   "id": "94f24a32",
   "metadata": {},
   "source": [
    "### String Concatenation\n"
   ]
  },
  {
   "cell_type": "code",
   "execution_count": 25,
   "id": "629dffc7",
   "metadata": {},
   "outputs": [
    {
     "name": "stdout",
     "output_type": "stream",
     "text": [
      "Pierre Fermat\n"
     ]
    }
   ],
   "source": [
    "first_name = \"Pierre\"\n",
    "lastName = \"Fermat\"\n",
    "fullName = first_name + \" \" + lastName\n",
    "print(fullName)"
   ]
  },
  {
   "cell_type": "code",
   "execution_count": 26,
   "id": "a2dd52d7",
   "metadata": {},
   "outputs": [
    {
     "ename": "TypeError",
     "evalue": "can only concatenate str (not \"int\") to str",
     "output_type": "error",
     "traceback": [
      "\u001b[31m---------------------------------------------------------------------------\u001b[39m",
      "\u001b[31mTypeError\u001b[39m                                 Traceback (most recent call last)",
      "\u001b[36mCell\u001b[39m\u001b[36m \u001b[39m\u001b[32mIn[26]\u001b[39m\u001b[32m, line 1\u001b[39m\n\u001b[32m----> \u001b[39m\u001b[32m1\u001b[39m \u001b[38;5;28mprint\u001b[39m(\u001b[43mfirst_name\u001b[49m\u001b[43m \u001b[49m\u001b[43m+\u001b[49m\u001b[43m \u001b[49m\u001b[32;43m3\u001b[39;49m)\n",
      "\u001b[31mTypeError\u001b[39m: can only concatenate str (not \"int\") to str"
     ]
    }
   ],
   "source": [
    "print(first_name + 3)"
   ]
  },
  {
   "cell_type": "code",
   "execution_count": 27,
   "id": "a657a33e",
   "metadata": {},
   "outputs": [
    {
     "name": "stdout",
     "output_type": "stream",
     "text": [
      "Pierre3\n"
     ]
    }
   ],
   "source": [
    "print(first_name + \"3\")"
   ]
  },
  {
   "cell_type": "code",
   "execution_count": 28,
   "id": "472babaa",
   "metadata": {},
   "outputs": [
    {
     "name": "stdout",
     "output_type": "stream",
     "text": [
      "Pierre3\n"
     ]
    }
   ],
   "source": [
    "print(first_name + str(3))"
   ]
  },
  {
   "cell_type": "code",
   "execution_count": 29,
   "id": "d503fa50",
   "metadata": {},
   "outputs": [
    {
     "name": "stdout",
     "output_type": "stream",
     "text": [
      "PierrePierrePierre\n"
     ]
    }
   ],
   "source": [
    "print(first_name*3)"
   ]
  },
  {
   "cell_type": "markdown",
   "id": "60105a49",
   "metadata": {},
   "source": [
    "### User input\n",
    "- The input is usually in string format, because str is a universal daat format and all other data types can be stored in string\n"
   ]
  },
  {
   "cell_type": "code",
   "execution_count": null,
   "id": "9176744b",
   "metadata": {},
   "outputs": [
    {
     "name": "stdout",
     "output_type": "stream",
     "text": [
      "1 2 3\n"
     ]
    }
   ],
   "source": [
    "a, b, c = input()\n"
   ]
  },
  {
   "cell_type": "code",
   "execution_count": 3,
   "id": "82074d98",
   "metadata": {},
   "outputs": [],
   "source": [
    "a,b,c = input().split(\"?\")"
   ]
  },
  {
   "cell_type": "code",
   "execution_count": 4,
   "id": "b23ee801",
   "metadata": {},
   "outputs": [
    {
     "name": "stdout",
     "output_type": "stream",
     "text": [
      "1 2 3\n"
     ]
    }
   ],
   "source": [
    "print(a,b,c)"
   ]
  },
  {
   "cell_type": "code",
   "execution_count": 5,
   "id": "3e3d78e0",
   "metadata": {},
   "outputs": [
    {
     "data": {
      "text/plain": [
       "str"
      ]
     },
     "execution_count": 5,
     "metadata": {},
     "output_type": "execute_result"
    }
   ],
   "source": [
    "type(a)"
   ]
  },
  {
   "cell_type": "code",
   "execution_count": 6,
   "id": "45afcfca",
   "metadata": {},
   "outputs": [],
   "source": [
    "sum= int(a)+int(b)"
   ]
  },
  {
   "cell_type": "code",
   "execution_count": 7,
   "id": "50515e6c",
   "metadata": {},
   "outputs": [
    {
     "name": "stdout",
     "output_type": "stream",
     "text": [
      "3\n"
     ]
    }
   ],
   "source": [
    "print(sum)"
   ]
  },
  {
   "cell_type": "code",
   "execution_count": null,
   "id": "4b8864f6",
   "metadata": {},
   "outputs": [],
   "source": [
    "name = input(\"enter your name\")\n",
    "age = int(input(\"enter your age\"))\n",
    "\n"
   ]
  },
  {
   "cell_type": "code",
   "execution_count": 12,
   "id": "1aa5455e",
   "metadata": {},
   "outputs": [
    {
     "name": "stdout",
     "output_type": "stream",
     "text": [
      "hellokimayamy age is 23\n"
     ]
    }
   ],
   "source": [
    "print(\"hello\" + name + \"my age is \" + str(age))"
   ]
  },
  {
   "cell_type": "markdown",
   "id": "90905227",
   "metadata": {},
   "source": [
    "#### Formatted Strings \n",
    "- Formatted string literal allow you to embed expressions inside string literals using curly brackets {}"
   ]
  },
  {
   "cell_type": "code",
   "execution_count": 13,
   "id": "f3a28830",
   "metadata": {},
   "outputs": [
    {
     "name": "stdout",
     "output_type": "stream",
     "text": [
      "hello kimaya my age is 23 \n"
     ]
    }
   ],
   "source": [
    "print(f\"hello {name} my age is {age} \")"
   ]
  },
  {
   "cell_type": "code",
   "execution_count": 14,
   "id": "93af6fd7",
   "metadata": {},
   "outputs": [
    {
     "name": "stdout",
     "output_type": "stream",
     "text": [
      "hello kimaya my age is 23\n"
     ]
    }
   ],
   "source": [
    "print(\"hello {} my age is {}\".format(name,age))"
   ]
  },
  {
   "cell_type": "code",
   "execution_count": null,
   "id": "fa53a269",
   "metadata": {},
   "outputs": [],
   "source": [
    "# take 3 numbers and find there average\n",
    "a, b, c = input().split(\" \")\n",
    "avg = (int(a)+int(b)+int(c))/3\n",
    "print(avg)\n"
   ]
  },
  {
   "cell_type": "code",
   "execution_count": 22,
   "id": "f1930c95",
   "metadata": {},
   "outputs": [
    {
     "name": "stdout",
     "output_type": "stream",
     "text": [
      "15.0\n"
     ]
    }
   ],
   "source": [
    "# Print sum of 1st n numbers\n",
    "n = int(input())\n",
    "sum = n*(n+1)/2\n",
    "print(sum)"
   ]
  },
  {
   "cell_type": "markdown",
   "id": "962d91ad",
   "metadata": {},
   "source": [
    "### String Indexing\n",
    "- zero indexing"
   ]
  },
  {
   "cell_type": "code",
   "execution_count": 31,
   "id": "3f4259a2",
   "metadata": {},
   "outputs": [
    {
     "name": "stdout",
     "output_type": "stream",
     "text": [
      "n\n",
      "t\n"
     ]
    }
   ],
   "source": [
    "language = \"Python\"\n",
    "# P = 0 , -6\n",
    "# y = 1 , -5\n",
    "# t = 2 , -4\n",
    "# h = 3 , -3\n",
    "# o = 4 , -2\n",
    "# n = 5 , -1\n",
    "print(language[5])\n",
    "print(language[-4])"
   ]
  },
  {
   "cell_type": "markdown",
   "id": "3c661082",
   "metadata": {},
   "source": [
    "### String Slicing\n",
    "- We are trying to select subsequences\n",
    "- Syntax = [start argument : stop argument - 1 : stepsize]"
   ]
  },
  {
   "cell_type": "code",
   "execution_count": 32,
   "id": "1d8f7478",
   "metadata": {},
   "outputs": [
    {
     "name": "stdout",
     "output_type": "stream",
     "text": [
      "th\n"
     ]
    }
   ],
   "source": [
    "print(language[2:4])"
   ]
  },
  {
   "cell_type": "markdown",
   "id": "d7404a6c",
   "metadata": {},
   "source": [
    "Why not 2,4?\n",
    "- 2:4 is a slice object (range of indices)\n",
    "- 2,4 would be a tuple of two numbers ,which indexing doesnt allow\n",
    "(Thats why we must use a colon : to speciy a range)"
   ]
  },
  {
   "cell_type": "code",
   "execution_count": 53,
   "id": "948ab4a1",
   "metadata": {},
   "outputs": [
    {
     "name": "stdout",
     "output_type": "stream",
     "text": [
      "ello world\n",
      "Hel\n",
      "Hello world\n",
      "Hlo\n",
      "d\n",
      "world\n",
      "w olleH\n"
     ]
    }
   ],
   "source": [
    "s = \"Hello world\"\n",
    "print(s[1:])\n",
    "print(s[:3])\n",
    "print(s[:])\n",
    "print(s[0:6:2])\n",
    "print(s[-1:])\n",
    "print(s[-5:])\n",
    "print(s[6::-1]) "
   ]
  },
  {
   "cell_type": "code",
   "execution_count": null,
   "id": "465aba9b",
   "metadata": {},
   "outputs": [
    {
     "name": "stdout",
     "output_type": "stream",
     "text": [
      "\n"
     ]
    }
   ],
   "source": [
    "print(s[6:2])\n",
    "# But since 6 > 2, there’s no valid path forward.\n",
    "# Python just returns an empty string.\n",
    "\n",
    "# So the output will be:"
   ]
  },
  {
   "cell_type": "code",
   "execution_count": null,
   "id": "767747ca",
   "metadata": {},
   "outputs": [
    {
     "name": "stdout",
     "output_type": "stream",
     "text": [
      "dlrow olleH\n"
     ]
    }
   ],
   "source": [
    "# to reverse a string \n",
    "print(s[::-1])\n"
   ]
  },
  {
   "cell_type": "code",
   "execution_count": 55,
   "id": "51b1d33d",
   "metadata": {},
   "outputs": [
    {
     "name": "stdout",
     "output_type": "stream",
     "text": [
      "dlrow\n"
     ]
    }
   ],
   "source": [
    "# If step size is negative then starting number should be bigger\n",
    "print(s[-1:-6:-1])"
   ]
  },
  {
   "cell_type": "code",
   "execution_count": 57,
   "id": "4207c9e5",
   "metadata": {},
   "outputs": [
    {
     "name": "stdout",
     "output_type": "stream",
     "text": [
      "Kmy\n"
     ]
    }
   ],
   "source": [
    "print(\"Kimaya\"[0:6:2])"
   ]
  },
  {
   "cell_type": "code",
   "execution_count": 112,
   "id": "e39630ed",
   "metadata": {},
   "outputs": [
    {
     "name": "stdout",
     "output_type": "stream",
     "text": [
      "my emailid is aya23\n"
     ]
    }
   ],
   "source": [
    "# take input of full name and age and create email lastthreechar-age@gmail.com\n",
    "name , age =input(\"enter your ful name\").split(\" \")\n",
    "email = name[-1:-4:-1] + age\n",
    "print(f\"my emailid is {email}\")"
   ]
  },
  {
   "cell_type": "markdown",
   "id": "bf78fb44",
   "metadata": {},
   "source": [
    "### String methods\n",
    "- All these methods dont change the original string , a new string is formed in memory and on this the operation is performed. "
   ]
  },
  {
   "cell_type": "code",
   "execution_count": 118,
   "id": "876fa42c",
   "metadata": {},
   "outputs": [],
   "source": [
    "# string methods\n",
    "name = \"Pierre Fermat\"\n"
   ]
  },
  {
   "cell_type": "code",
   "execution_count": 84,
   "id": "d486ec13",
   "metadata": {},
   "outputs": [
    {
     "ename": "TypeError",
     "evalue": "'str' object does not support item assignment",
     "output_type": "error",
     "traceback": [
      "\u001b[31m---------------------------------------------------------------------------\u001b[39m",
      "\u001b[31mTypeError\u001b[39m                                 Traceback (most recent call last)",
      "\u001b[36mCell\u001b[39m\u001b[36m \u001b[39m\u001b[32mIn[84]\u001b[39m\u001b[32m, line 1\u001b[39m\n\u001b[32m----> \u001b[39m\u001b[32m1\u001b[39m \u001b[43mname\u001b[49m\u001b[43m[\u001b[49m\u001b[32;43m0\u001b[39;49m\u001b[43m]\u001b[49m = \u001b[33m\"\u001b[39m\u001b[33mF\u001b[39m\u001b[33m\"\u001b[39m\n",
      "\u001b[31mTypeError\u001b[39m: 'str' object does not support item assignment"
     ]
    }
   ],
   "source": [
    "name[0] = \"F\""
   ]
  },
  {
   "cell_type": "code",
   "execution_count": 60,
   "id": "d1350654",
   "metadata": {},
   "outputs": [
    {
     "data": {
      "text/plain": [
       "13"
      ]
     },
     "execution_count": 60,
     "metadata": {},
     "output_type": "execute_result"
    }
   ],
   "source": [
    "# len() function\n",
    "len(name)"
   ]
  },
  {
   "cell_type": "code",
   "execution_count": 70,
   "id": "9059a7bb",
   "metadata": {},
   "outputs": [
    {
     "name": "stdout",
     "output_type": "stream",
     "text": [
      "F\n",
      "t\n"
     ]
    }
   ],
   "source": [
    "#  min and max function- based on ascii value \n",
    "print(min(name))\n",
    "print(max(name))"
   ]
  },
  {
   "cell_type": "code",
   "execution_count": 71,
   "id": "4d00c83c",
   "metadata": {},
   "outputs": [
    {
     "data": {
      "text/plain": [
       "['F', 'P', 'a', 'e', 'e', 'e', 'i', 'm', 'r', 'r', 'r', 't']"
      ]
     },
     "execution_count": 71,
     "metadata": {},
     "output_type": "execute_result"
    }
   ],
   "source": [
    "sorted(name)"
   ]
  },
  {
   "cell_type": "markdown",
   "id": "4e01b8f6",
   "metadata": {},
   "source": [
    "#### Difference between funcions and methods\n",
    "- Methods is like the feature built into the object\n",
    "- In Python, a function is independent and can operate on different types, like len() which works for strings, lists, etc. A method is tied to a particular object/class and called on it, like .lower() which belongs to strings. Functions are generic, methods are object-specific."
   ]
  },
  {
   "cell_type": "code",
   "execution_count": 79,
   "id": "24a8c6dd",
   "metadata": {},
   "outputs": [
    {
     "name": "stdout",
     "output_type": "stream",
     "text": [
      "pierre fermat\n",
      "PIERRE FERMAT\n",
      "Pierre Fermat\n",
      "Pierre fermat\n"
     ]
    }
   ],
   "source": [
    "print(name.lower())\n",
    "print(name.upper())\n",
    "print(name.title())\n",
    "print(name.capitalize())"
   ]
  },
  {
   "cell_type": "code",
   "execution_count": 82,
   "id": "a6c86317",
   "metadata": {},
   "outputs": [
    {
     "name": "stdout",
     "output_type": "stream",
     "text": [
      "3\n",
      "3\n",
      "2\n"
     ]
    }
   ],
   "source": [
    "#  To find the frequency of the character or a substring\n",
    "print(name.count(\"e\"))\n",
    "print(name.count(\"r\"))\n",
    "print(name.count(\"er\"))"
   ]
  },
  {
   "cell_type": "code",
   "execution_count": null,
   "id": "7905d0ad",
   "metadata": {},
   "outputs": [
    {
     "name": "stdout",
     "output_type": "stream",
     "text": [
      "2\n",
      "8\n"
     ]
    }
   ],
   "source": [
    "# .find() used to locate first occurence of a substring within a string . It returns the index of the first occurence of the substring . If nothing is found it returns -1. 3rd parameter specifies from which index we should start searching from\n",
    "\n",
    "print(name.find(\"er\"))\n",
    "print(name.find(\"er\",3))"
   ]
  },
  {
   "cell_type": "code",
   "execution_count": 86,
   "id": "aa982889",
   "metadata": {},
   "outputs": [
    {
     "name": "stdout",
     "output_type": "stream",
     "text": [
      "2\n"
     ]
    },
    {
     "ename": "ValueError",
     "evalue": "substring not found",
     "output_type": "error",
     "traceback": [
      "\u001b[31m---------------------------------------------------------------------------\u001b[39m",
      "\u001b[31mValueError\u001b[39m                                Traceback (most recent call last)",
      "\u001b[36mCell\u001b[39m\u001b[36m \u001b[39m\u001b[32mIn[86]\u001b[39m\u001b[32m, line 3\u001b[39m\n\u001b[32m      1\u001b[39m \u001b[38;5;66;03m#  Index method Similar to find used to locate first ocurrence of a substring within a string i not found it returns value error\u001b[39;00m\n\u001b[32m      2\u001b[39m \u001b[38;5;28mprint\u001b[39m(name.index(\u001b[33m\"\u001b[39m\u001b[33mer\u001b[39m\u001b[33m\"\u001b[39m))\n\u001b[32m----> \u001b[39m\u001b[32m3\u001b[39m \u001b[38;5;28mprint\u001b[39m(\u001b[43mname\u001b[49m\u001b[43m.\u001b[49m\u001b[43mindex\u001b[49m\u001b[43m(\u001b[49m\u001b[33;43m\"\u001b[39;49m\u001b[33;43mty\u001b[39;49m\u001b[33;43m\"\u001b[39;49m\u001b[43m)\u001b[49m)\n",
      "\u001b[31mValueError\u001b[39m: substring not found"
     ]
    }
   ],
   "source": [
    "#  Index method Similar to find used to locate first ocurrence of a substring within a string i not found it returns value error\n",
    "print(name.index(\"er\"))\n",
    "print(name.index(\"ty\"))"
   ]
  },
  {
   "cell_type": "code",
   "execution_count": 88,
   "id": "afa09a2c",
   "metadata": {},
   "outputs": [],
   "source": [
    "#  Split method it divides a string into list of substrings\n",
    "first , last = input().split(\" \")"
   ]
  },
  {
   "cell_type": "code",
   "execution_count": 89,
   "id": "0259032f",
   "metadata": {},
   "outputs": [
    {
     "name": "stdout",
     "output_type": "stream",
     "text": [
      "my name is kimya mutha\n"
     ]
    }
   ],
   "source": [
    "print(f\"my name is {first} {last}\")"
   ]
  },
  {
   "cell_type": "code",
   "execution_count": 92,
   "id": "baa3cf59",
   "metadata": {},
   "outputs": [
    {
     "name": "stdout",
     "output_type": "stream",
     "text": [
      "my age is 23 and my emailid is a\n"
     ]
    }
   ],
   "source": [
    "age , emailid = input().split(\" \")\n",
    "print(f\"my age is {age} and my emailid is {emailid}\")"
   ]
  },
  {
   "cell_type": "code",
   "execution_count": 94,
   "id": "2e7774b5",
   "metadata": {},
   "outputs": [
    {
     "name": "stdout",
     "output_type": "stream",
     "text": [
      "hi@i@am@fermat\n"
     ]
    }
   ],
   "source": [
    "# Join method joins elements of iterables (list into a string)\n",
    "words = ['hi','i','am','fermat']\n",
    "print(\"@\".join(words))"
   ]
  },
  {
   "cell_type": "code",
   "execution_count": 108,
   "id": "a9cb22f7",
   "metadata": {},
   "outputs": [
    {
     "name": "stdout",
     "output_type": "stream",
     "text": [
      "Pierre   Fermat\n"
     ]
    }
   ],
   "source": [
    "#  Strip method removes any leading and tracing white spaces from a string\n",
    "name = \"  Pierre   Fermat    \"\n",
    "print(name.strip())"
   ]
  },
  {
   "cell_type": "code",
   "execution_count": 97,
   "id": "e85a4a53",
   "metadata": {},
   "outputs": [
    {
     "name": "stdout",
     "output_type": "stream",
     "text": [
      "  Pierre   Fermat     ................................ \n"
     ]
    }
   ],
   "source": [
    "dots = \" ................................ \"\n",
    "print(name + dots)"
   ]
  },
  {
   "cell_type": "code",
   "execution_count": 100,
   "id": "b43401a6",
   "metadata": {},
   "outputs": [
    {
     "name": "stdout",
     "output_type": "stream",
     "text": [
      "Pierre   Fermat    \n",
      "  Pierre   Fermat\n"
     ]
    }
   ],
   "source": [
    "print(name.lstrip())\n",
    "print(name.rstrip())\n"
   ]
  },
  {
   "cell_type": "code",
   "execution_count": null,
   "id": "2d4077b0",
   "metadata": {},
   "outputs": [
    {
     "name": "stdout",
     "output_type": "stream",
     "text": [
      "PierreFermat\n"
     ]
    }
   ],
   "source": [
    "print(name.replace(\" \",\"\"))"
   ]
  },
  {
   "cell_type": "code",
   "execution_count": 109,
   "id": "f35119a7",
   "metadata": {},
   "outputs": [
    {
     "name": "stdout",
     "output_type": "stream",
     "text": [
      "  Fierre   Fermat    \n"
     ]
    }
   ],
   "source": [
    "# Replace method creates a modified version of a string by replacing a specified substring\n",
    "print(name.replace(\"Pie\",\"Fie\"))"
   ]
  },
  {
   "cell_type": "code",
   "execution_count": 114,
   "id": "2870353a",
   "metadata": {},
   "outputs": [
    {
     "name": "stdout",
     "output_type": "stream",
     "text": [
      "she was beautiful and she was a good dancer\n",
      "she was beautiful and she is a good dancer\n"
     ]
    }
   ],
   "source": [
    "string = \"she is beautiful and she is a good dancer\"\n",
    "print(string.replace(\"is\",\"was\"))\n",
    "print(string.replace(\"is\",\"was\",1))"
   ]
  },
  {
   "cell_type": "code",
   "execution_count": 105,
   "id": "c6a713b0",
   "metadata": {},
   "outputs": [
    {
     "name": "stdout",
     "output_type": "stream",
     "text": [
      "6\n",
      "0\n"
     ]
    }
   ],
   "source": [
    "name , ch= input(\"enter name\").split(\" \")\n",
    "print(len(name))\n",
    "print(name.count(ch))\n"
   ]
  },
  {
   "cell_type": "code",
   "execution_count": 106,
   "id": "4d5ef388",
   "metadata": {},
   "outputs": [
    {
     "name": "stdout",
     "output_type": "stream",
     "text": [
      "2\n"
     ]
    }
   ],
   "source": [
    "print(name.lower().count(ch.lower()))"
   ]
  },
  {
   "cell_type": "code",
   "execution_count": null,
   "id": "50705c75",
   "metadata": {},
   "outputs": [],
   "source": []
  }
 ],
 "metadata": {
  "kernelspec": {
   "display_name": "ml1",
   "language": "python",
   "name": "python3"
  },
  "language_info": {
   "codemirror_mode": {
    "name": "ipython",
    "version": 3
   },
   "file_extension": ".py",
   "mimetype": "text/x-python",
   "name": "python",
   "nbconvert_exporter": "python",
   "pygments_lexer": "ipython3",
   "version": "3.12.11"
  }
 },
 "nbformat": 4,
 "nbformat_minor": 5
}
